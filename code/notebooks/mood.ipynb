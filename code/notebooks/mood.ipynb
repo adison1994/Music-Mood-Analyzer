{
 "cells": [
  {
   "cell_type": "code",
   "execution_count": 1,
   "metadata": {},
   "outputs": [],
   "source": [
    "# Models\n",
    "# Basic Classifiers\n",
    "from sklearn.linear_model import LogisticRegression\n",
    "from sklearn.svm import SVC, LinearSVC\n",
    "\n",
    "# Neural Networks\n",
    "from sklearn.neural_network import MLPClassifier\n",
    "\n",
    "# Tree Based Classifiers\n",
    "from sklearn.tree import DecisionTreeClassifier\n",
    "from sklearn.ensemble import RandomForestClassifier\n",
    "from sklearn.ensemble import AdaBoostClassifier\n",
    "from xgboost import XGBClassifier\n",
    "\n",
    "# Probabilistic Classifiers\n",
    "from sklearn.naive_bayes import GaussianNB\n",
    "from sklearn.naive_bayes import  MultinomialNB\n",
    "\n",
    "# Metrics' imports to analyze model performance\n",
    "from sklearn.metrics import accuracy_score\n",
    "from sklearn.metrics import confusion_matrix\n",
    "from sklearn.metrics import classification_report\n",
    "from sklearn.metrics import f1_score\n",
    "\n",
    "# Feature Scalers\n",
    "from sklearn.preprocessing import StandardScaler\n",
    "from sklearn.preprocessing import Normalizer\n",
    "from sklearn.preprocessing import MinMaxScaler\n",
    "from sklearn.preprocessing import Binarizer\n",
    "\n",
    "# Data Management Imports\n",
    "import numpy as np\n",
    "import pandas as pd\n",
    "import seaborn as sea;\n",
    "import matplotlib.pyplot as plt\n",
    "\n",
    "# Copy and Dump imports.\n",
    "import pickle\n",
    "from copy import deepcopy"
   ]
  },
  {
   "cell_type": "code",
   "execution_count": 2,
   "metadata": {},
   "outputs": [],
   "source": [
    "# Uncomment this IFF the datasets need to be downloaded.\n",
    "#!curl https://raw.githubusercontent.com/rasbt/musicmood/master/dataset/training/train_lyrics_1000.csv > train.csv\n",
    "#!git clone https://github.com/rasbt/musicmood.git"
   ]
  },
  {
   "cell_type": "code",
   "execution_count": 6,
   "metadata": {},
   "outputs": [],
   "source": [
    "# Load Training CSV\n",
    "train = pd.read_csv(\"D:/Academic/Data Science/Music-Mood/data/training/train_lyrics_1000.csv\")\n",
    "\n",
    "# Load Validation CSV\n",
    "validation = pd.read_csv(\"D:/Academic/Data Science/Music-Mood/data/validation/valid_lyrics_200.csv\")"
   ]
  },
  {
   "cell_type": "code",
   "execution_count": 7,
   "metadata": {},
   "outputs": [
    {
     "name": "stdout",
     "output_type": "stream",
     "text": [
      "Done\n"
     ]
    },
    {
     "data": {
      "image/png": "[encoded data removed]",
      "text/plain": [
       "<Figure size 432x288 with 1 Axes>"
      ]
     },
     "metadata": {
      "needs_background": "light"
     },
     "output_type": "display_data"
    }
   ],
   "source": [
    "# Since we cannot pass Strings in a classifier, convert the labels into numbers.\n",
    "train['mood'].replace({\"happy\":1,\"sad\":0}, inplace=True)\n",
    "validation['mood'].replace({\"happy\":1,\"sad\":0}, inplace=True)\n",
    "\n",
    "sea.countplot(train['mood'])\n",
    "\n",
    "# Create X and Y\n",
    "train_x = list(map(str,train.pop('lyrics')))\n",
    "train_y = list(train.pop('mood'))\n",
    "\n",
    "print(\"Done\")"
   ]
  },
  {
   "cell_type": "code",
   "execution_count": 8,
   "metadata": {},
   "outputs": [
    {
     "data": {
      "text/html": [
       "<div>\n",
       "<style scoped>\n",
       "    .dataframe tbody tr th:only-of-type {\n",
       "        vertical-align: middle;\n",
       "    }\n",
       "\n",
       "    .dataframe tbody tr th {\n",
       "        vertical-align: top;\n",
       "    }\n",
       "\n",
       "    .dataframe thead th {\n",
       "        text-align: right;\n",
       "    }\n",
       "</style>\n",
       "<table border=\"1\" class=\"dataframe\">\n",
       "  <thead>\n",
       "    <tr style=\"text-align: right;\">\n",
       "      <th></th>\n",
       "      <th>file</th>\n",
       "      <th>artist</th>\n",
       "      <th>title</th>\n",
       "      <th>genre</th>\n",
       "      <th>year</th>\n",
       "    </tr>\n",
       "  </thead>\n",
       "  <tbody>\n",
       "    <tr>\n",
       "      <th>0</th>\n",
       "      <td>TRAAAAW128F429D538.h5</td>\n",
       "      <td>Casual</td>\n",
       "      <td>I Didn't Mean To</td>\n",
       "      <td>Hip Hop/Rap</td>\n",
       "      <td>1994</td>\n",
       "    </tr>\n",
       "    <tr>\n",
       "      <th>1</th>\n",
       "      <td>TRAAAEF128F4273421.h5</td>\n",
       "      <td>Adam Ant</td>\n",
       "      <td>Something Girls</td>\n",
       "      <td>Rock</td>\n",
       "      <td>1982</td>\n",
       "    </tr>\n",
       "    <tr>\n",
       "      <th>2</th>\n",
       "      <td>TRAAAFD128F92F423A.h5</td>\n",
       "      <td>Gob</td>\n",
       "      <td>Face the Ashes</td>\n",
       "      <td>Rock</td>\n",
       "      <td>2007</td>\n",
       "    </tr>\n",
       "    <tr>\n",
       "      <th>3</th>\n",
       "      <td>TRAABJV128F1460C49.h5</td>\n",
       "      <td>Lionel Richie</td>\n",
       "      <td>Tonight Will Be Alright</td>\n",
       "      <td>R&amp;B</td>\n",
       "      <td>1986</td>\n",
       "    </tr>\n",
       "    <tr>\n",
       "      <th>4</th>\n",
       "      <td>TRAABLR128F423B7E3.h5</td>\n",
       "      <td>Blue Rodeo</td>\n",
       "      <td>Floating</td>\n",
       "      <td>Rock</td>\n",
       "      <td>1987</td>\n",
       "    </tr>\n",
       "  </tbody>\n",
       "</table>\n",
       "</div>"
      ],
      "text/plain": [
       "                    file         artist                    title        genre  \\\n",
       "0  TRAAAAW128F429D538.h5         Casual         I Didn't Mean To  Hip Hop/Rap   \n",
       "1  TRAAAEF128F4273421.h5       Adam Ant          Something Girls         Rock   \n",
       "2  TRAAAFD128F92F423A.h5            Gob           Face the Ashes         Rock   \n",
       "3  TRAABJV128F1460C49.h5  Lionel Richie  Tonight Will Be Alright          R&B   \n",
       "4  TRAABLR128F423B7E3.h5     Blue Rodeo                 Floating         Rock   \n",
       "\n",
       "   year  \n",
       "0  1994  \n",
       "1  1982  \n",
       "2  2007  \n",
       "3  1986  \n",
       "4  1987  "
      ]
     },
     "execution_count": 8,
     "metadata": {},
     "output_type": "execute_result"
    }
   ],
   "source": [
    "train.head()"
   ]
  },
  {
   "cell_type": "markdown",
   "metadata": {},
   "source": [
    "# Utility Functions "
   ]
  },
  {
   "cell_type": "code",
   "execution_count": 9,
   "metadata": {},
   "outputs": [],
   "source": [
    "# Generate a report on the Model's performance\n",
    "# Model MUST be trained. Otherwise report will give random values\n",
    "# @param : model (any SKLearn TRAINED Model should be fine)\n",
    "# @param : data (A dictionary with keys {'train', 'validation'} and values as tuples (x, y))\n",
    "# @param : name (A name for the Model. eg: 'Logistic Regression')\n",
    "#\n",
    "def generateClassificationReport(model, data, name) :\n",
    "    \n",
    "    # Get the Training Data\n",
    "    train_x, train_y = data['train'];\n",
    "    # Get the Test/Validation Data\n",
    "    val_x, val_y = data['validation'];\n",
    "  \n",
    "    # A label map that will be used while plotting\n",
    "    labels = [\"Sad\",\"Happy\"]\n",
    "    print(\"Report of training a : \" + name + \" classifier\");\n",
    "    \n",
    "    # ---  Report on Training Set --- #\n",
    "    # Set a figure for the plot\n",
    "    print(\"Training Score\")\n",
    "    showReport(train_x, train_y, model, labels);\n",
    "    \n",
    "    # ---  Report on Validation Set --- #\n",
    "    print(\"Validation Score Report\")\n",
    "    showReport(val_x, val_y, model, labels);\n",
    "\n",
    "\n",
    "# Show the Classification Report and Proceed to build and display the Confusion Matrix \n",
    "# @param : x (The X value of a dataset)\n",
    "# @param : Y (y_true of the dataset)\n",
    "# @param : model (must be a TRAINED SKLearn Classficiation Model) An untrained model will give random results\n",
    "# @param : labels (String values to be mapped to original label values ['Sad','Happy'])\n",
    "#\n",
    "def showReport(x, y, model, labels) :\n",
    "\n",
    "    # Predict on training set (to see training accuracy)\n",
    "    y_pred = model.predict(x);\n",
    "    \n",
    "    # Get a Classification Report. \n",
    "    print(classification_report(y_true = y, y_pred = y_pred, target_names=labels))\n",
    "    \n",
    "    # Build a heatmap using the result's confusion matrix.\n",
    "    generateHeatmap(x, y, model, labels);\n",
    "    \n",
    "\n",
    "# Build and display the Confusion Matrix \n",
    "# @param : x (The X value of a dataset)\n",
    "# @param : Y (y_true of the dataset)\n",
    "# @param : model (must be a TRAINED SKLearn Classficiation Model) An untrained model will give random results\n",
    "# @param : labels (String values to be mapped to original label values ['Sad','Happy'])\n",
    "#\n",
    "def generateHeatmap(x,y, model, labels) :\n",
    "    fig, ax = plt.subplots(1,1)\n",
    "    print(\"Confusion Matrix\");\n",
    "    sea.heatmap(confusion_matrix(y, model.predict(x)),annot=True,annot_kws={\"size\": 12},cmap='Blues', fmt='g', ax=ax, xticklabels=labels, yticklabels=labels)\n",
    "    plt.show()\n",
    "\n",
    "\n",
    "# Train and Test on an array of models. Choose the best Model and display a report.\n",
    "# @param : models (A list of different SKLEARN CLASSIFICATION models)\n",
    "# @param : name (A list of names for each of the Model in the same order as the 'models' object)\n",
    "# @param : data (A dictionary with keys {'train', 'validation'} and values as tuples (x, y))\n",
    "#\n",
    "def ensemble(models, name, data) :\n",
    "    \n",
    "    # Get the Training Data\n",
    "    train_x, train_y = data['train'];\n",
    "    # Get the Test/Validation Data\n",
    "    val_x, val_y = data['validation'];\n",
    "    \n",
    "    # Trackers for Best Model data\n",
    "    bestModel, bestScore, bestName = None, 0.0, \"\";\n",
    "    \n",
    "    # Iterate over each Model, train, test and update the best model trackers.\n",
    "    for model, name in zip(models, names) :\n",
    "        # Train the Model\n",
    "        model.fit(train_x, train_y);\n",
    "        \n",
    "        # Log the model name\n",
    "        print(\"-----\",name,\"-----\")\n",
    "        \n",
    "        # Log F1 Score on the training set. (To see how well the training set was learnt)\n",
    "        y_pred = model.predict(train_x)\n",
    "        # Log\n",
    "        print(\"Train:\", f1_score(y_true = train_y, y_pred = y_pred));\n",
    "        \n",
    "        # Log F1 Score on the validation set.\n",
    "        y_pred = model.predict(val_x)\n",
    "        # Get the F1-Score for Validation Set.\n",
    "        f1 = f1_score(y_true = val_y, y_pred = y_pred)\n",
    "        # Log\n",
    "        print(\"Validation:\", f1);\n",
    "        print()\n",
    "        # IFF test accuracy is better than all the previously computed accuracies, then update the trackers\n",
    "        if f1 > bestScore :\n",
    "            bestScore, bestModel, bestName = f1, model, name\n",
    "    \n",
    "    # Generate a Report (Classification Report and Confusion Matrix) on the best Model from the provided Models.\n",
    "    generateClassificationReport(bestModel, data, bestName);\n",
    "    \n",
    "    # Return the trained models for user to save.\n",
    "    return models"
   ]
  },
  {
   "cell_type": "markdown",
   "metadata": {},
   "source": [
    "# Building a vectorized version of text data"
   ]
  },
  {
   "cell_type": "code",
   "execution_count": 10,
   "metadata": {},
   "outputs": [],
   "source": [
    "# param : vectorizer (Any Valid Vectorizer [CountVector, TFIDF, HashingVector] can be passed to this function.)\n",
    "def vectorizeAndTrain(vectorizer) :\n",
    "    # Fit X into the vectorizer and transform using those weights\n",
    "    x_train = vectorizer.fit_transform(train_x)\n",
    "\n",
    "    # Transform validation X using the vectorizer above.\n",
    "    x_val = vectorizer.transform(validation['lyrics'])\n",
    "\n",
    "    # Create the Data Object\n",
    "    data_tf = {'train': (x_train, train_y), \"validation\" : (x_val, validation['mood']) }\n",
    "\n",
    "    # Train, Test and Generate a Report on the best Model.\n",
    "    trainedModels = ensemble(deepcopy(models), names, data_tf)\n",
    "    \n",
    "    return {\"vectorizer\" : vectorizer, \"models\" : trainedModels};"
   ]
  },
  {
   "cell_type": "code",
   "execution_count": 11,
   "metadata": {},
   "outputs": [],
   "source": [
    "# Models and Names\n",
    "\n",
    "# Using LR, RF and SVM here. Add more for variations\n",
    "models = [ LogisticRegression(solver = 'liblinear'),\n",
    "          RandomForestClassifier(n_estimators = 50), \n",
    "          LinearSVC(max_iter = 10000, random_state = 2) ]\n",
    "\n",
    "names = [\"Logistic Regression\", \n",
    "         \"Random Forect\", \n",
    "         \"Support Vector Machine\"];"
   ]
  },
  {
   "cell_type": "markdown",
   "metadata": {},
   "source": [
    "# [Text Classification Basics](https://machinelearningmastery.com/prepare-text-data-machine-learning-scikit-learn/)"
   ]
  },
  {
   "cell_type": "markdown",
   "metadata": {},
   "source": [
    "# Approach 1 : Count Vector"
   ]
  },
  {
   "cell_type": "code",
   "execution_count": 12,
   "metadata": {},
   "outputs": [],
   "source": [
    "# Count Vectorizer is one of the most basic ways to perform any kind of classification on text data.\n",
    "from sklearn.feature_extraction.text import CountVectorizer"
   ]
  },
  {
   "cell_type": "code",
   "execution_count": 13,
   "metadata": {},
   "outputs": [
    {
     "name": "stdout",
     "output_type": "stream",
     "text": [
      "----- Logistic Regression -----\n",
      "Train: 0.9977628635346756\n",
      "Validation: 0.6179775280898877\n",
      "\n",
      "----- Random Forect -----\n",
      "Train: 0.9977628635346756\n",
      "Validation: 0.3076923076923077\n",
      "\n",
      "----- Support Vector Machine -----\n",
      "Train: 0.9977578475336323\n",
      "Validation: 0.6021505376344086\n",
      "\n",
      "Report of training a : Logistic Regression classifier\n",
      "Training Score\n",
      "              precision    recall  f1-score   support\n",
      "\n",
      "         Sad       1.00      1.00      1.00       554\n",
      "       Happy       1.00      1.00      1.00       446\n",
      "\n",
      "   micro avg       1.00      1.00      1.00      1000\n",
      "   macro avg       1.00      1.00      1.00      1000\n",
      "weighted avg       1.00      1.00      1.00      1000\n",
      "\n",
      "Confusion Matrix\n"
     ]
    },
    {
     "name": "stderr",
     "output_type": "stream",
     "text": [
      "C:\\ProgramData\\Anaconda3\\lib\\site-packages\\sklearn\\svm\\base.py:922: ConvergenceWarning: Liblinear failed to converge, increase the number of iterations.\n",
      "  \"the number of iterations.\", ConvergenceWarning)\n"
     ]
    },
    {
     "data": {
      "image/png": "[encoded data removed]",
      "text/plain": [
       "<Figure size 432x288 with 2 Axes>"
      ]
     },
     "metadata": {
      "needs_background": "light"
     },
     "output_type": "display_data"
    },
    {
     "name": "stdout",
     "output_type": "stream",
     "text": [
      "Validation Score Report\n",
      "              precision    recall  f1-score   support\n",
      "\n",
      "         Sad       0.61      0.81      0.69        95\n",
      "       Happy       0.75      0.52      0.62       105\n",
      "\n",
      "   micro avg       0.66      0.66      0.66       200\n",
      "   macro avg       0.68      0.67      0.66       200\n",
      "weighted avg       0.68      0.66      0.65       200\n",
      "\n",
      "Confusion Matrix\n"
     ]
    },
    {
     "data": {
      "image/png": "[encoded data removed]",
      "text/plain": [
       "<Figure size 432x288 with 2 Axes>"
      ]
     },
     "metadata": {
      "needs_background": "light"
     },
     "output_type": "display_data"
    }
   ],
   "source": [
    "# Instantiate a CountVector\n",
    "vectorizer = CountVectorizer(ngram_range=(1, 3))\n",
    "\n",
    "# Vectorize the dataset, train, test and generate reports.\n",
    "result = vectorizeAndTrain(vectorizer)"
   ]
  },
  {
   "cell_type": "markdown",
   "metadata": {},
   "source": [
    "# Count Vector \n",
    "\n",
    "Train : I have a pineapple\n",
    "\n",
    "fit_transform(train) Generates a vocabluary Dict -> {\"I\" : 1,\"have\": 1,....,\"pineapple\":1} and returns a sparse matrix\n",
    "\n",
    "trasform(test) -> [ 1, 1, 0, 0 ]\n",
    "\n",
    "Unigram -> I, have, a, pineapple\n",
    "\n",
    "n-gram -> Unigram + Bigram + Trigram\n",
    "\n",
    "Bi-Gram -> I have, have a, a pineapple\n",
    "\n",
    "Tri-Gram -> I have a, have a pineapple\n",
    "\n",
    "n-gram-range (1, 5) -> I, have, a, pineapple, I have, have a, a pineapple, ..."
   ]
  },
  {
   "cell_type": "markdown",
   "metadata": {},
   "source": [
    "# Approach 2 : TFIDF"
   ]
  },
  {
   "cell_type": "code",
   "execution_count": 14,
   "metadata": {},
   "outputs": [],
   "source": [
    "from sklearn.feature_extraction.text import TfidfVectorizer"
   ]
  },
  {
   "cell_type": "markdown",
   "metadata": {},
   "source": [
    "# Uni-Grams"
   ]
  },
  {
   "cell_type": "code",
   "execution_count": 15,
   "metadata": {},
   "outputs": [
    {
     "name": "stdout",
     "output_type": "stream",
     "text": [
      "----- Logistic Regression -----\n",
      "Train: 0.9063231850117095\n",
      "Validation: 0.6012269938650308\n",
      "\n",
      "----- Random Forect -----\n",
      "Train: 0.9977578475336323\n",
      "Validation: 0.5895953757225433\n",
      "\n",
      "----- Support Vector Machine -----\n",
      "Train: 0.9944008958566628\n",
      "Validation: 0.6914893617021277\n",
      "\n",
      "Report of training a : Support Vector Machine classifier\n",
      "Training Score\n",
      "              precision    recall  f1-score   support\n",
      "\n",
      "         Sad       1.00      0.99      1.00       554\n",
      "       Happy       0.99      1.00      0.99       446\n",
      "\n",
      "   micro avg       0.99      0.99      0.99      1000\n",
      "   macro avg       0.99      1.00      0.99      1000\n",
      "weighted avg       1.00      0.99      1.00      1000\n",
      "\n",
      "Confusion Matrix\n"
     ]
    },
    {
     "data": {
      "image/png": "[encoded data removed]",
      "text/plain": [
       "<Figure size 432x288 with 2 Axes>"
      ]
     },
     "metadata": {
      "needs_background": "light"
     },
     "output_type": "display_data"
    },
    {
     "name": "stdout",
     "output_type": "stream",
     "text": [
      "Validation Score Report\n",
      "              precision    recall  f1-score   support\n",
      "\n",
      "         Sad       0.66      0.81      0.73        95\n",
      "       Happy       0.78      0.62      0.69       105\n",
      "\n",
      "   micro avg       0.71      0.71      0.71       200\n",
      "   macro avg       0.72      0.71      0.71       200\n",
      "weighted avg       0.72      0.71      0.71       200\n",
      "\n",
      "Confusion Matrix\n"
     ]
    },
    {
     "data": {
      "image/png": "[encoded data removed]",
      "text/plain": [
       "<Figure size 432x288 with 2 Axes>"
      ]
     },
     "metadata": {
      "needs_background": "light"
     },
     "output_type": "display_data"
    }
   ],
   "source": [
    "# Instantiate a TFIDF Vectorizer and use Unigrams ONLY.\n",
    "# By using unigrams, you do not consider any previous or next word to the current word.\n",
    "# This approch is good if the sample contains big paragraphs.\n",
    "vectorizer = TfidfVectorizer(ngram_range=(1,1), stop_words='english');\n",
    "\n",
    "# Vectorize the dataset, train, test and generate reports.\n",
    "result = vectorizeAndTrain(vectorizer)"
   ]
  },
  {
   "cell_type": "markdown",
   "metadata": {},
   "source": [
    "# Bi-Grams"
   ]
  },
  {
   "cell_type": "code",
   "execution_count": 16,
   "metadata": {},
   "outputs": [
    {
     "name": "stdout",
     "output_type": "stream",
     "text": [
      "----- Logistic Regression -----\n",
      "Train: 0.9966329966329966\n",
      "Validation: 0.296875\n",
      "\n",
      "----- Random Forect -----\n",
      "Train: 0.9909502262443438\n",
      "Validation: 0.18487394957983194\n",
      "\n",
      "----- Support Vector Machine -----\n",
      "Train: 0.9966329966329966\n",
      "Validation: 0.5125\n",
      "\n",
      "Report of training a : Support Vector Machine classifier\n",
      "Training Score\n",
      "              precision    recall  f1-score   support\n",
      "\n",
      "         Sad       1.00      1.00      1.00       554\n",
      "       Happy       1.00      1.00      1.00       446\n",
      "\n",
      "   micro avg       1.00      1.00      1.00      1000\n",
      "   macro avg       1.00      1.00      1.00      1000\n",
      "weighted avg       1.00      1.00      1.00      1000\n",
      "\n",
      "Confusion Matrix\n"
     ]
    },
    {
     "data": {
      "image/png": "[encoded data removed]",
      "text/plain": [
       "<Figure size 432x288 with 2 Axes>"
      ]
     },
     "metadata": {
      "needs_background": "light"
     },
     "output_type": "display_data"
    },
    {
     "name": "stdout",
     "output_type": "stream",
     "text": [
      "Validation Score Report\n",
      "              precision    recall  f1-score   support\n",
      "\n",
      "         Sad       0.56      0.85      0.68        95\n",
      "       Happy       0.75      0.39      0.51       105\n",
      "\n",
      "   micro avg       0.61      0.61      0.61       200\n",
      "   macro avg       0.65      0.62      0.59       200\n",
      "weighted avg       0.66      0.61      0.59       200\n",
      "\n",
      "Confusion Matrix\n"
     ]
    },
    {
     "data": {
      "image/png": "[encoded data removed]",
      "text/plain": [
       "<Figure size 432x288 with 2 Axes>"
      ]
     },
     "metadata": {
      "needs_background": "light"
     },
     "output_type": "display_data"
    }
   ],
   "source": [
    "# Instantiate a TFIDF Vectorizer and use Bi-Grams ONLY.\n",
    "# Example String : \"a b c d e\" \n",
    "# BiGrams would be : \"ab, bc, cd, de\", etc.\n",
    "vectorizer = TfidfVectorizer(ngram_range=(2,2), stop_words='english');\n",
    "\n",
    "# Vectorize the dataset, train, test and generate reports.\n",
    "result = vectorizeAndTrain(vectorizer)"
   ]
  },
  {
   "cell_type": "markdown",
   "metadata": {},
   "source": [
    "# Tri-Grams"
   ]
  },
  {
   "cell_type": "code",
   "execution_count": 17,
   "metadata": {},
   "outputs": [
    {
     "name": "stdout",
     "output_type": "stream",
     "text": [
      "----- Logistic Regression -----\n",
      "Train: 0.9966329966329966\n",
      "Validation: 0.23333333333333334\n",
      "\n",
      "----- Random Forect -----\n",
      "Train: 0.9840546697038723\n",
      "Validation: 0.05555555555555556\n",
      "\n",
      "----- Support Vector Machine -----\n",
      "Train: 0.9966329966329966\n",
      "Validation: 0.3111111111111111\n",
      "\n",
      "Report of training a : Support Vector Machine classifier\n",
      "Training Score\n",
      "              precision    recall  f1-score   support\n",
      "\n",
      "         Sad       1.00      1.00      1.00       554\n",
      "       Happy       1.00      1.00      1.00       446\n",
      "\n",
      "   micro avg       1.00      1.00      1.00      1000\n",
      "   macro avg       1.00      1.00      1.00      1000\n",
      "weighted avg       1.00      1.00      1.00      1000\n",
      "\n",
      "Confusion Matrix\n"
     ]
    },
    {
     "data": {
      "image/png": "[encoded data removed]",
      "text/plain": [
       "<Figure size 432x288 with 2 Axes>"
      ]
     },
     "metadata": {
      "needs_background": "light"
     },
     "output_type": "display_data"
    },
    {
     "name": "stdout",
     "output_type": "stream",
     "text": [
      "Validation Score Report\n",
      "              precision    recall  f1-score   support\n",
      "\n",
      "         Sad       0.51      0.91      0.65        95\n",
      "       Happy       0.70      0.20      0.31       105\n",
      "\n",
      "   micro avg       0.54      0.54      0.54       200\n",
      "   macro avg       0.60      0.55      0.48       200\n",
      "weighted avg       0.61      0.54      0.47       200\n",
      "\n",
      "Confusion Matrix\n"
     ]
    },
    {
     "data": {
      "image/png": "[encoded data removed]",
      "text/plain": [
       "<Figure size 432x288 with 2 Axes>"
      ]
     },
     "metadata": {
      "needs_background": "light"
     },
     "output_type": "display_data"
    }
   ],
   "source": [
    "# Instantiate a TFIDF Vectorizer and use Tri-Grams ONLY.\n",
    "# Example String : \"a b c d e\" \n",
    "# BiGrams would be : \"abc, bcd, cde\", etc.\n",
    "# Not very good on small data samples because alot of data is lost\n",
    "vectorizer = TfidfVectorizer(ngram_range=(3,3), stop_words='english');\n",
    "\n",
    "# Vectorize the dataset, train, test and generate reports.\n",
    "result = vectorizeAndTrain(vectorizer)"
   ]
  },
  {
   "cell_type": "markdown",
   "metadata": {},
   "source": [
    "# N-Grams : Using range 1 to 5"
   ]
  },
  {
   "cell_type": "code",
   "execution_count": 18,
   "metadata": {},
   "outputs": [
    {
     "name": "stdout",
     "output_type": "stream",
     "text": [
      "----- Logistic Regression -----\n",
      "Train: 0.9966329966329966\n",
      "Validation: 0.522875816993464\n",
      "\n",
      "----- Random Forect -----\n",
      "Train: 0.9977528089887641\n",
      "Validation: 0.4729729729729729\n",
      "\n",
      "----- Support Vector Machine -----\n",
      "Train: 0.9977578475336323\n",
      "Validation: 0.7120418848167539\n",
      "\n",
      "Report of training a : Support Vector Machine classifier\n",
      "Training Score\n",
      "              precision    recall  f1-score   support\n",
      "\n",
      "         Sad       1.00      1.00      1.00       554\n",
      "       Happy       1.00      1.00      1.00       446\n",
      "\n",
      "   micro avg       1.00      1.00      1.00      1000\n",
      "   macro avg       1.00      1.00      1.00      1000\n",
      "weighted avg       1.00      1.00      1.00      1000\n",
      "\n",
      "Confusion Matrix\n"
     ]
    },
    {
     "data": {
      "image/png": "[encoded data removed]",
      "text/plain": [
       "<Figure size 432x288 with 2 Axes>"
      ]
     },
     "metadata": {
      "needs_background": "light"
     },
     "output_type": "display_data"
    },
    {
     "name": "stdout",
     "output_type": "stream",
     "text": [
      "Validation Score Report\n",
      "              precision    recall  f1-score   support\n",
      "\n",
      "         Sad       0.68      0.81      0.74        95\n",
      "       Happy       0.79      0.65      0.71       105\n",
      "\n",
      "   micro avg       0.72      0.72      0.73       200\n",
      "   macro avg       0.73      0.73      0.72       200\n",
      "weighted avg       0.74      0.72      0.72       200\n",
      "\n",
      "Confusion Matrix\n"
     ]
    },
    {
     "data": {
      "image/png": "[encoded data removed]",
      "text/plain": [
       "<Figure size 432x288 with 2 Axes>"
      ]
     },
     "metadata": {
      "needs_background": "light"
     },
     "output_type": "display_data"
    }
   ],
   "source": [
    "# Instantiate a TFIDF Vectorizer and use n-grams in the range 1 - 5.\n",
    "# This is actually very good because it creates alot of variation.\n",
    "# Example String : \"a b c d e\" \n",
    "# N-Grams would be : \"a, ab, abc, abcd, abcde, b, bc, bcd, bcde\", etc. \n",
    "# This will generate all the combinations in a sliding window of 5 words (PRESERVING THE ORDER).\n",
    "\n",
    "vectorizer = TfidfVectorizer(ngram_range=(1,5), stop_words='english');\n",
    "\n",
    "# Vectorize the dataset, train, test and generate reports.\n",
    "result = vectorizeAndTrain(vectorizer)"
   ]
  },
  {
   "cell_type": "code",
   "execution_count": null,
   "metadata": {},
   "outputs": [],
   "source": []
  }
 ],
 "metadata": {
  "kernelspec": {
   "display_name": "Python 3",
   "language": "python",
   "name": "python3"
  },
  "language_info": {
   "codemirror_mode": {
    "name": "ipython",
    "version": 3
   },
   "file_extension": ".py",
   "mimetype": "text/x-python",
   "name": "python",
   "nbconvert_exporter": "python",
   "pygments_lexer": "ipython3",
   "version": "3.7.1"
  }
 },
 "nbformat": 4,
 "nbformat_minor": 2
}
